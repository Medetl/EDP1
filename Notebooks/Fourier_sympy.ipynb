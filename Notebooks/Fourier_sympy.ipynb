{
 "cells": [
  {
   "cell_type": "code",
   "execution_count": null,
   "id": "5f28847b",
   "metadata": {},
   "outputs": [],
   "source": [
    "from sympy import fourier_series, pi, plot, Piecewise\n",
    "from sympy.abc import x"
   ]
  },
  {
   "cell_type": "code",
   "execution_count": null,
   "id": "1ba494ed",
   "metadata": {},
   "outputs": [],
   "source": [
    "f=Piecewise(\n",
    "    (0, x < -2),\n",
    "    (x+2,(x >= -2) & (x < 0)),\n",
    "    (0,(x<=2)))"
   ]
  },
  {
   "cell_type": "code",
   "execution_count": null,
   "id": "e16319b3",
   "metadata": {},
   "outputs": [],
   "source": [
    "plot(f, (x,-2,2),line_color ='red')"
   ]
  },
  {
   "cell_type": "code",
   "execution_count": null,
   "id": "f5fffb2a",
   "metadata": {},
   "outputs": [],
   "source": [
    "s = fourier_series(f, (x, -2, 2))\n",
    "s1 = s.truncate(n = 3)\n",
    "s2 = s.truncate(n = 5)\n",
    "s3 = s.truncate(n = 7)\n",
    "p = plot(f, s1, s2, s3, (x, -pi, pi), show=False, legend=True)"
   ]
  },
  {
   "cell_type": "code",
   "execution_count": null,
   "id": "482c9a3f",
   "metadata": {},
   "outputs": [],
   "source": [
    "s"
   ]
  },
  {
   "cell_type": "code",
   "execution_count": null,
   "id": "de74e36f",
   "metadata": {},
   "outputs": [],
   "source": [
    "p[0].label = 'x'\n",
    "p[1].label = 'n=3'\n",
    "p[2].label = 'n=5'\n",
    "p[3].label = 'n=7'"
   ]
  },
  {
   "cell_type": "code",
   "execution_count": null,
   "id": "180fcc8d",
   "metadata": {},
   "outputs": [],
   "source": [
    "p.show()"
   ]
  },
  {
   "cell_type": "code",
   "execution_count": null,
   "id": "2577ad9d",
   "metadata": {},
   "outputs": [],
   "source": []
  }
 ],
 "metadata": {
  "kernelspec": {
   "display_name": "Python 3 (ipykernel)",
   "language": "python",
   "name": "python3"
  },
  "language_info": {
   "codemirror_mode": {
    "name": "ipython",
    "version": 3
   },
   "file_extension": ".py",
   "mimetype": "text/x-python",
   "name": "python",
   "nbconvert_exporter": "python",
   "pygments_lexer": "ipython3",
   "version": "3.7.3"
  }
 },
 "nbformat": 4,
 "nbformat_minor": 5
}
