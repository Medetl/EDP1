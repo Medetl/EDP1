{
 "cells": [
  {
   "cell_type": "code",
   "execution_count": null,
   "id": "ea3c7cca",
   "metadata": {},
   "outputs": [],
   "source": [
    "from sympy import *"
   ]
  },
  {
   "cell_type": "code",
   "execution_count": null,
   "id": "9a809e15",
   "metadata": {},
   "outputs": [],
   "source": [
    "x=symbols('x')"
   ]
  },
  {
   "cell_type": "code",
   "execution_count": null,
   "id": "f013e8e4",
   "metadata": {},
   "outputs": [],
   "source": [
    "c1=plotting.plot(x*x)"
   ]
  },
  {
   "cell_type": "code",
   "execution_count": null,
   "id": "681a546b",
   "metadata": {},
   "outputs": [],
   "source": [
    "cl=plotting.plot(x*x,show=False)\n",
    "c2=plotting.plot(x**3,show=False)"
   ]
  },
  {
   "cell_type": "code",
   "execution_count": null,
   "id": "826d2156",
   "metadata": {},
   "outputs": [],
   "source": [
    "c1 #Indica qué es y en qué espacio de memoria está"
   ]
  },
  {
   "cell_type": "code",
   "execution_count": null,
   "id": "c52a5b46",
   "metadata": {},
   "outputs": [],
   "source": [
    "c1.append(c2[0]) #Anida las gráficas sin los ejes"
   ]
  },
  {
   "cell_type": "code",
   "execution_count": null,
   "id": "f23f0783",
   "metadata": {},
   "outputs": [],
   "source": [
    "c1"
   ]
  },
  {
   "cell_type": "code",
   "execution_count": null,
   "id": "c13d8b05",
   "metadata": {},
   "outputs": [],
   "source": [
    "c1.show()"
   ]
  },
  {
   "cell_type": "code",
   "execution_count": null,
   "id": "135bfd2d",
   "metadata": {},
   "outputs": [],
   "source": [
    "c1.extend(c2)"
   ]
  },
  {
   "cell_type": "code",
   "execution_count": null,
   "id": "56418d41",
   "metadata": {},
   "outputs": [],
   "source": [
    "c1.show()"
   ]
  },
  {
   "cell_type": "code",
   "execution_count": null,
   "id": "3a25a53b",
   "metadata": {},
   "outputs": [],
   "source": [
    "c2.show()"
   ]
  },
  {
   "cell_type": "code",
   "execution_count": null,
   "id": "ad2995f2",
   "metadata": {},
   "outputs": [],
   "source": [
    "from sympy.plotting import plot"
   ]
  },
  {
   "cell_type": "code",
   "execution_count": null,
   "id": "4d9c7160",
   "metadata": {},
   "outputs": [],
   "source": [
    "plot(x**2)"
   ]
  },
  {
   "cell_type": "code",
   "execution_count": null,
   "id": "cac91b1d",
   "metadata": {},
   "outputs": [],
   "source": [
    "plot(x**2,(x,-1,1))"
   ]
  },
  {
   "cell_type": "code",
   "execution_count": null,
   "id": "12aaf4ee",
   "metadata": {},
   "outputs": [],
   "source": [
    "plot(exp(x))\n",
    "#plot(exp(x),(x,0,2))"
   ]
  },
  {
   "cell_type": "code",
   "execution_count": null,
   "id": "a679a5ba",
   "metadata": {},
   "outputs": [],
   "source": [
    "plot(x,x**2,x**3, (x,-2,2))"
   ]
  },
  {
   "cell_type": "code",
   "execution_count": null,
   "id": "b2425f84",
   "metadata": {},
   "outputs": [],
   "source": [
    "plot(x**2,adaptative=False,nb_of_points=10) #Revisar"
   ]
  },
  {
   "cell_type": "markdown",
   "id": "9ce41f8e",
   "metadata": {},
   "source": [
    "### Curvas parametrizadas"
   ]
  },
  {
   "cell_type": "code",
   "execution_count": null,
   "id": "9dcc8951",
   "metadata": {},
   "outputs": [],
   "source": [
    "from sympy import plot_parametric"
   ]
  },
  {
   "cell_type": "code",
   "execution_count": null,
   "id": "a75bd4c7",
   "metadata": {},
   "outputs": [],
   "source": [
    "s=symbols('s')"
   ]
  },
  {
   "cell_type": "code",
   "execution_count": null,
   "id": "b1b1f0c8",
   "metadata": {},
   "outputs": [],
   "source": [
    "plot_parametric((cos(s)),sin(s))"
   ]
  },
  {
   "cell_type": "code",
   "execution_count": null,
   "id": "5ab8a4f0",
   "metadata": {},
   "outputs": [],
   "source": [
    "plot_parametric((cos(s),sin(s)),(s,s**2),(s,-4,4))"
   ]
  },
  {
   "cell_type": "code",
   "execution_count": null,
   "id": "aa955b9e",
   "metadata": {},
   "outputs": [],
   "source": [
    "c2[0].line_color='green'"
   ]
  },
  {
   "cell_type": "code",
   "execution_count": null,
   "id": "be06e1b1",
   "metadata": {},
   "outputs": [],
   "source": [
    "c2.show()"
   ]
  },
  {
   "cell_type": "markdown",
   "id": "cca07cb7",
   "metadata": {},
   "source": [
    "### Graficas 3D"
   ]
  },
  {
   "cell_type": "code",
   "execution_count": null,
   "id": "af558339",
   "metadata": {},
   "outputs": [],
   "source": [
    "from sympy.plotting import plot3d"
   ]
  },
  {
   "cell_type": "code",
   "execution_count": null,
   "id": "b8c4346f",
   "metadata": {},
   "outputs": [],
   "source": [
    "x,y=symbols('x y')"
   ]
  },
  {
   "cell_type": "code",
   "execution_count": null,
   "id": "7bf8b47c",
   "metadata": {},
   "outputs": [],
   "source": [
    "plot3d(x*y)"
   ]
  },
  {
   "cell_type": "code",
   "execution_count": null,
   "id": "26b09e08",
   "metadata": {},
   "outputs": [],
   "source": [
    "plot3d(x*y, (x,-5,5),(y,-5,5))"
   ]
  },
  {
   "cell_type": "code",
   "execution_count": null,
   "id": "1bd8303d",
   "metadata": {},
   "outputs": [],
   "source": [
    "plot3d(x*y, -x*y, (x,-5,5),(y,-5,5))"
   ]
  },
  {
   "cell_type": "code",
   "execution_count": null,
   "id": "bc48dc4f",
   "metadata": {},
   "outputs": [],
   "source": [
    "plot3d((x**2 + y**2, (x,-5,5),(y,-5,5)),(x*y,(x,-3,3),(y,-3,3)))"
   ]
  },
  {
   "cell_type": "code",
   "execution_count": null,
   "id": "6cdd3777",
   "metadata": {},
   "outputs": [],
   "source": [
    "from sympy.plotting import plot3d_parametric_line"
   ]
  },
  {
   "cell_type": "code",
   "execution_count": null,
   "id": "e57589a8",
   "metadata": {},
   "outputs": [],
   "source": [
    "plot3d_parametric_line(cos(s),sin(s),s)"
   ]
  },
  {
   "cell_type": "code",
   "execution_count": null,
   "id": "b182c4af",
   "metadata": {},
   "outputs": [],
   "source": [
    "plot3d_parametric_line((cos(s),sin(s),s,(s,-5,5)),(sin(s),s**2,s,(s,-5,5)))"
   ]
  },
  {
   "cell_type": "code",
   "execution_count": null,
   "id": "31185692",
   "metadata": {},
   "outputs": [],
   "source": [
    "from sympy.plotting import plot3d_parametric_surface"
   ]
  },
  {
   "cell_type": "code",
   "execution_count": null,
   "id": "22e2c1c2",
   "metadata": {},
   "outputs": [],
   "source": [
    "u, v =symbols('u v')"
   ]
  },
  {
   "cell_type": "code",
   "execution_count": null,
   "id": "c96ce23a",
   "metadata": {},
   "outputs": [],
   "source": [
    "plot3d_parametric_surface(cos(u+v),sin(u-v),u-v)"
   ]
  },
  {
   "cell_type": "code",
   "execution_count": null,
   "id": "406abc70",
   "metadata": {},
   "outputs": [],
   "source": [
    "plot3d_parametric_surface(cos(v)*cos(u),cos(v)*sin(u),sin(v))"
   ]
  },
  {
   "cell_type": "markdown",
   "id": "4203d6ad",
   "metadata": {},
   "source": [
    "Funciones implícitas"
   ]
  },
  {
   "cell_type": "code",
   "execution_count": null,
   "id": "dfccc5e3",
   "metadata": {},
   "outputs": [],
   "source": [
    "from sympy import plot_implicit, symbols, Eq, And"
   ]
  },
  {
   "cell_type": "code",
   "execution_count": null,
   "id": "c0d7f8b3",
   "metadata": {},
   "outputs": [],
   "source": [
    "x, y = symbols(' x y')"
   ]
  },
  {
   "cell_type": "code",
   "execution_count": null,
   "id": "d9cfb450",
   "metadata": {},
   "outputs": [],
   "source": [
    "p1 = plot_implicit(Eq(x**2 + y**2, 5)) "
   ]
  },
  {
   "cell_type": "code",
   "execution_count": null,
   "id": "da52c476",
   "metadata": {},
   "outputs": [],
   "source": [
    "p6 = plot_implicit(y > x**2) "
   ]
  },
  {
   "cell_type": "code",
   "execution_count": null,
   "id": "a819d003",
   "metadata": {},
   "outputs": [],
   "source": [
    "p6 = plot_implicit(And(y > x, y > -x)) "
   ]
  },
  {
   "cell_type": "code",
   "execution_count": null,
   "id": "45fd20a5",
   "metadata": {},
   "outputs": [],
   "source": []
  }
 ],
 "metadata": {
  "kernelspec": {
   "display_name": "Python 3 (ipykernel)",
   "language": "python",
   "name": "python3"
  },
  "language_info": {
   "codemirror_mode": {
    "name": "ipython",
    "version": 3
   },
   "file_extension": ".py",
   "mimetype": "text/x-python",
   "name": "python",
   "nbconvert_exporter": "python",
   "pygments_lexer": "ipython3",
   "version": "3.7.3"
  }
 },
 "nbformat": 4,
 "nbformat_minor": 5
}
